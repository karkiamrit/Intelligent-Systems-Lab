{
 "cells": [
  {
   "cell_type": "code",
   "execution_count": 1,
   "id": "e35f3269",
   "metadata": {},
   "outputs": [],
   "source": [
    "import random"
   ]
  },
  {
   "cell_type": "code",
   "execution_count": 2,
   "id": "954a8a46",
   "metadata": {},
   "outputs": [
    {
     "name": "stdout",
     "output_type": "stream",
     "text": [
      "Enter any number from 1 to 100:20\n"
     ]
    }
   ],
   "source": [
    "user_guess=int(input(\"Enter any number from 1 to 100:\"));"
   ]
  },
  {
   "cell_type": "code",
   "execution_count": 3,
   "id": "3074f091",
   "metadata": {},
   "outputs": [],
   "source": [
    "number=random.randint(1,100)\n"
   ]
  },
  {
   "cell_type": "code",
   "execution_count": 4,
   "id": "d686aeae",
   "metadata": {},
   "outputs": [],
   "source": [
    "counter=1"
   ]
  },
  {
   "cell_type": "code",
   "execution_count": 5,
   "id": "b3339df3",
   "metadata": {},
   "outputs": [
    {
     "name": "stdout",
     "output_type": "stream",
     "text": [
      "Enter a higher number\n",
      "Enter any number from 1 to 100:30\n",
      "Enter a higher number\n",
      "Enter any number from 1 to 100:40\n",
      "Enter a higher number\n",
      "Enter any number from 1 to 100:60\n",
      "Enter a higher number\n",
      "Enter any number from 1 to 100:80\n",
      "Enter a higher number\n",
      "Enter any number from 1 to 100:90\n",
      "Coungratulations you have entered the right number\n",
      "Attempts= 6\n"
     ]
    }
   ],
   "source": [
    "while number!=user_guess:\n",
    "    if user_guess<number:\n",
    "        print(\"Enter a higher number\")\n",
    "    else:\n",
    "        print(\"Enter a lower number\")\n",
    "    user_guess=int(input(\"Enter any number from 1 to 100:\"));  \n",
    "    counter=counter+1\n",
    "else:\n",
    "    print(\"Coungratulations you have entered the right number\")\n",
    "    print(\"Attempts=\",counter)"
   ]
  },
  {
   "cell_type": "code",
   "execution_count": null,
   "id": "4b4d4536",
   "metadata": {},
   "outputs": [],
   "source": []
  },
  {
   "cell_type": "code",
   "execution_count": null,
   "id": "9c8a7f28",
   "metadata": {},
   "outputs": [],
   "source": []
  }
 ],
 "metadata": {
  "kernelspec": {
   "display_name": "Python 3 (ipykernel)",
   "language": "python",
   "name": "python3"
  },
  "language_info": {
   "codemirror_mode": {
    "name": "ipython",
    "version": 3
   },
   "file_extension": ".py",
   "mimetype": "text/x-python",
   "name": "python",
   "nbconvert_exporter": "python",
   "pygments_lexer": "ipython3",
   "version": "3.10.9"
  }
 },
 "nbformat": 4,
 "nbformat_minor": 5
}
